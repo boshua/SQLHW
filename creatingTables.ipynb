{
 "cells": [
  {
   "cell_type": "code",
   "execution_count": 18,
   "metadata": {},
   "outputs": [],
   "source": [
    "#importing dependencies\n",
    "import csv\n",
    "import psycopg2\n",
    "import pandas as pd\n",
    "#connecting to database\n",
    "conn = psycopg2.connect(\"host=localhost dbname=sqlHW user=postgres password=9DIRK9wade\")\n",
    "cur = conn.cursor()"
   ]
  },
  {
   "cell_type": "code",
   "execution_count": 19,
   "metadata": {},
   "outputs": [],
   "source": [
    "#creating and populating tables\n",
    "#conn.rollback()\n",
    "#create departments table\n",
    "cur.execute(\"\"\"\n",
    "DROP TABLE departments CASCADE;\n",
    "CREATE TABLE departments(\n",
    "    dept_no VARCHAR(4) PRIMARY KEY NOT NULL,\n",
    "    dept_name VARCHAR(50) NOT NULL)\"\"\")\n",
    "conn.commit()\n",
    "\n",
    "#reading departments csv file\n",
    "departments_reader = csv.DictReader(open('data/departments.csv'))\n",
    "\n",
    "#populating departments table\n",
    "for row in departments_reader:\n",
    "    \n",
    "    sqlInsert = \\\n",
    "            \"INSERT INTO departments (dept_no, dept_name)  \\\n",
    "             VALUES (%s, %s)\"\n",
    "    cur.execute(sqlInsert, (row['dept_no'],\n",
    "                               row['dept_name']))\n",
    "conn.commit()"
   ]
  },
  {
   "cell_type": "code",
   "execution_count": 20,
   "metadata": {},
   "outputs": [],
   "source": [
    "#conn.rollback()\n",
    "\n",
    "#creating dept_emp table\n",
    "cur.execute(\"\"\"\n",
    "DROP TABLE dept_emp;\n",
    "CREATE TABLE dept_emp(\n",
    "    emp_no INT NOT NULL REFERENCES employees(emp_no),\n",
    "    dept_no VARCHAR(4) REFERENCES departments(dept_no) NOT NULL,\n",
    "    from_date DATE,\n",
    "    to_date DATE NOT NULL)\"\"\")\n",
    "conn.commit()\n",
    "\n",
    "#reading dept_emp csv file\n",
    "dept_emp_reader = csv.DictReader(open('data/dept_emp.csv'))\n",
    "\n",
    "#populating dept_emp table\n",
    "for row in dept_emp_reader:\n",
    "    \n",
    "    sqlInsert = \\\n",
    "        \"INSERT INTO dept_emp (emp_no, dept_no, from_date, to_date)  \\\n",
    "        VALUES (%s, %s, %s, %s)\"\n",
    "    cur.execute(sqlInsert, (row['emp_no'], row['dept_no'], \n",
    "                                row['from_date'], row['to_date']))\n",
    "    \n",
    "conn.commit()"
   ]
  },
  {
   "cell_type": "code",
   "execution_count": 21,
   "metadata": {},
   "outputs": [],
   "source": [
    "#conn.rollback()\n",
    "cur.execute(\"\"\"\n",
    "DROP TABLE employees CASCADE;\n",
    "CREATE TABLE employees(\n",
    "    emp_no INT PRIMARY KEY NOT NULL,\n",
    "    birth_date DATE NOT NULL,\n",
    "    first_name VARCHAR(50) NOT NULL,\n",
    "    last_name VARCHAR(50) NOT NULL,\n",
    "    gender VARCHAR(1) NOT NULL,\n",
    "    hire_date DATE NOT NULL)\"\"\")\n",
    "conn.commit()\n",
    "\n",
    "employees_reader = csv.DictReader(open('data/employees.csv'))\n",
    "\n",
    "for row in employees_reader:\n",
    "    \n",
    "    sqlInsert = \\\n",
    "        \"INSERT INTO employees(emp_no, birth_date, first_name, last_name, gender, hire_date)  \\\n",
    "        VALUES (%s,%s,%s,%s,%s,%s)\"\n",
    "    cur.execute(sqlInsert, (row['emp_no'], row['birth_date'], row['first_name'], row['last_name'],\n",
    "                            row['gender'], row['hire_date']))\n",
    "conn.commit()"
   ]
  },
  {
   "cell_type": "code",
   "execution_count": 22,
   "metadata": {},
   "outputs": [],
   "source": [
    "# conn.rollback()\n",
    "cur.execute(\"\"\"\n",
    "DROP TABLE salaries;\n",
    "CREATE TABLE salaries(\n",
    "    emp_no INT PRIMARY KEY NOT NULL REFERENCES employees(emp_no),\n",
    "    salary INT NOT NULL,\n",
    "    from_date DATE NOT NULL,\n",
    "    to_date DATE NOT NULL)\"\"\")\n",
    "conn.commit()\n",
    "\n",
    "salaries_reader = csv.DictReader(open('data/salaries.csv'))\n",
    "\n",
    "for row in salaries_reader:\n",
    "    \n",
    "    sqlInsert = \\\n",
    "        \"INSERT INTO salaries(emp_no, salary, from_date, to_date)  \\\n",
    "        VAlUES (%s,%s,%s,%s)\"\n",
    "    cur.execute(sqlInsert, (row['emp_no'], row['salary'], row['from_date'], row['to_date']))\n",
    "    \n",
    "conn.commit()\n"
   ]
  },
  {
   "cell_type": "code",
   "execution_count": 25,
   "metadata": {},
   "outputs": [],
   "source": [
    "#conn.rollback()\n",
    "cur.execute(\"\"\"\n",
    "DROP TABLE dept_manager;\n",
    "CREATE TABLE dept_manager(\n",
    "    dept_no VARCHAR(4) NOT NULL REFERENCES departments(dept_no),\n",
    "    emp_no INT NOT NULL REFERENCES employees(emp_no),\n",
    "    from_date DATE NOT NULL,\n",
    "    to_date DATE NOT NULL)\"\"\")\n",
    "conn.commit()\n",
    "\n",
    "dept_manager_reader = csv.DictReader(open('data/dept_manager.csv'))\n",
    "\n",
    "for row in dept_manager_reader:\n",
    "    \n",
    "    sqlInsert = \\\n",
    "        \"INSERT INTO dept_manager(dept_no, emp_no, from_date, to_date)  \\\n",
    "        VALUES (%s,%s,%s,%s)\"\n",
    "    cur.execute(sqlInsert, (row['dept_no'], row['emp_no'],\n",
    "                           row['from_date'], row['to_date']))\n",
    "conn.commit()"
   ]
  },
  {
   "cell_type": "code",
   "execution_count": 24,
   "metadata": {},
   "outputs": [],
   "source": [
    "#conn.rollback()\n",
    "cur.execute(\"\"\"\n",
    "DROP TABLE titles;\n",
    "CREATE TABLE titles(\n",
    "    emp_no INT NOT NULL REFERENCES employees(emp_no),\n",
    "    title VARCHAR(50) NOT NULL,\n",
    "    from_date DATE NOT NULL,\n",
    "    to_date DATE NOT NULL)\"\"\")\n",
    "conn.commit()\n",
    "\n",
    "titles_reader = csv.DictReader(open('data/titles.csv'))\n",
    "\n",
    "for row in titles_reader:\n",
    "    \n",
    "    sqlInsert = \\\n",
    "        \"INSERT INTO titles(emp_no, title, from_date, to_date)  \\\n",
    "        VALUES (%s,%s,%s,%s)\"\n",
    "    cur.execute(sqlInsert, (row['emp_no'], row['title'],\n",
    "                           row['from_date'], row['to_date']))\n",
    "conn.commit()"
   ]
  },
  {
   "cell_type": "code",
   "execution_count": 11,
   "metadata": {
    "scrolled": false
   },
   "outputs": [],
   "source": []
  },
  {
   "cell_type": "code",
   "execution_count": null,
   "metadata": {},
   "outputs": [],
   "source": []
  }
 ],
 "metadata": {
  "kernelspec": {
   "display_name": "Python 3",
   "language": "python",
   "name": "python3"
  },
  "language_info": {
   "codemirror_mode": {
    "name": "ipython",
    "version": 3
   },
   "file_extension": ".py",
   "mimetype": "text/x-python",
   "name": "python",
   "nbconvert_exporter": "python",
   "pygments_lexer": "ipython3",
   "version": "3.7.4"
  }
 },
 "nbformat": 4,
 "nbformat_minor": 2
}
